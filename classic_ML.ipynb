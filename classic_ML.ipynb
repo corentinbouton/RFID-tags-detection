{
 "cells": [
  {
   "attachments": {},
   "cell_type": "markdown",
   "metadata": {},
   "source": [
    "## I. Data Exploration"
   ]
  },
  {
   "cell_type": "code",
   "execution_count": 1,
   "metadata": {},
   "outputs": [],
   "source": [
    "import pandas as pd\n",
    "from sklearn.svm import SVC\n",
    "from sklearn.ensemble import RandomForestClassifier\n",
    "from sklearn.metrics import classification_report, explained_variance_score, confusion_matrix, ConfusionMatrixDisplay, accuracy_score, RocCurveDisplay, roc_auc_score\n",
    "from sklearn.model_selection import GridSearchCV, cross_val_score"
   ]
  },
  {
   "cell_type": "code",
   "execution_count": 3,
   "metadata": {},
   "outputs": [
    {
     "name": "stdout",
     "output_type": "stream",
     "text": [
      "(23518, 190)\n"
     ]
    },
    {
     "data": {
      "text/html": [
       "<div>\n",
       "<style scoped>\n",
       "    .dataframe tbody tr th:only-of-type {\n",
       "        vertical-align: middle;\n",
       "    }\n",
       "\n",
       "    .dataframe tbody tr th {\n",
       "        vertical-align: top;\n",
       "    }\n",
       "\n",
       "    .dataframe thead th {\n",
       "        text-align: right;\n",
       "    }\n",
       "</style>\n",
       "<table border=\"1\" class=\"dataframe\">\n",
       "  <thead>\n",
       "    <tr style=\"text-align: right;\">\n",
       "      <th></th>\n",
       "      <th>run</th>\n",
       "      <th>crossing_id</th>\n",
       "      <th>EPC</th>\n",
       "      <th>actual</th>\n",
       "      <th>xstat</th>\n",
       "      <th>xmoving</th>\n",
       "      <th>keep_out</th>\n",
       "      <th>max_-12_1</th>\n",
       "      <th>max_-12_2</th>\n",
       "      <th>max_-12_3</th>\n",
       "      <th>...</th>\n",
       "      <th>max_4_allants</th>\n",
       "      <th>max_5_allants</th>\n",
       "      <th>max_6_allants</th>\n",
       "      <th>max_7_allants</th>\n",
       "      <th>max_8_allants</th>\n",
       "      <th>max_9_allants</th>\n",
       "      <th>max_10_allants</th>\n",
       "      <th>max_11_allants</th>\n",
       "      <th>max_12_allants</th>\n",
       "      <th>max_window_Dainaout</th>\n",
       "    </tr>\n",
       "  </thead>\n",
       "  <tbody>\n",
       "    <tr>\n",
       "      <th>0</th>\n",
       "      <td>2023-01-06 16:37:55</td>\n",
       "      <td>18</td>\n",
       "      <td>AD3830770CCDD0AD3830042E</td>\n",
       "      <td>moving</td>\n",
       "      <td>NaN</td>\n",
       "      <td>2.0</td>\n",
       "      <td>2.0</td>\n",
       "      <td>0.0</td>\n",
       "      <td>0.0</td>\n",
       "      <td>0.0</td>\n",
       "      <td>...</td>\n",
       "      <td>0.050119</td>\n",
       "      <td>0.000000</td>\n",
       "      <td>0.000000</td>\n",
       "      <td>0.031623</td>\n",
       "      <td>0.000000</td>\n",
       "      <td>0.000000</td>\n",
       "      <td>0.000000</td>\n",
       "      <td>0.0</td>\n",
       "      <td>0.0</td>\n",
       "      <td>0.174974</td>\n",
       "    </tr>\n",
       "    <tr>\n",
       "      <th>1</th>\n",
       "      <td>2023-01-06 17:00:06</td>\n",
       "      <td>10</td>\n",
       "      <td>AD3830770CCDD0AD383002D3</td>\n",
       "      <td>moving</td>\n",
       "      <td>NaN</td>\n",
       "      <td>5.0</td>\n",
       "      <td>5.0</td>\n",
       "      <td>0.0</td>\n",
       "      <td>0.0</td>\n",
       "      <td>0.0</td>\n",
       "      <td>...</td>\n",
       "      <td>0.063096</td>\n",
       "      <td>0.000000</td>\n",
       "      <td>0.000000</td>\n",
       "      <td>0.000000</td>\n",
       "      <td>0.000000</td>\n",
       "      <td>0.000000</td>\n",
       "      <td>0.000000</td>\n",
       "      <td>0.0</td>\n",
       "      <td>0.0</td>\n",
       "      <td>0.162064</td>\n",
       "    </tr>\n",
       "    <tr>\n",
       "      <th>2</th>\n",
       "      <td>2023-01-06 16:37:55</td>\n",
       "      <td>2</td>\n",
       "      <td>AD3830770CCDD0AD383002DC</td>\n",
       "      <td>moving</td>\n",
       "      <td>NaN</td>\n",
       "      <td>2.0</td>\n",
       "      <td>2.0</td>\n",
       "      <td>0.0</td>\n",
       "      <td>0.0</td>\n",
       "      <td>0.0</td>\n",
       "      <td>...</td>\n",
       "      <td>0.000000</td>\n",
       "      <td>0.000000</td>\n",
       "      <td>0.000000</td>\n",
       "      <td>0.000000</td>\n",
       "      <td>0.000000</td>\n",
       "      <td>0.000000</td>\n",
       "      <td>0.000000</td>\n",
       "      <td>0.0</td>\n",
       "      <td>0.0</td>\n",
       "      <td>0.199526</td>\n",
       "    </tr>\n",
       "    <tr>\n",
       "      <th>3</th>\n",
       "      <td>2023-01-06 16:25:36</td>\n",
       "      <td>19</td>\n",
       "      <td>AD3830770CCDD0AD383004AA</td>\n",
       "      <td>moving</td>\n",
       "      <td>NaN</td>\n",
       "      <td>1.0</td>\n",
       "      <td>1.0</td>\n",
       "      <td>0.0</td>\n",
       "      <td>0.0</td>\n",
       "      <td>0.0</td>\n",
       "      <td>...</td>\n",
       "      <td>0.223872</td>\n",
       "      <td>0.000000</td>\n",
       "      <td>0.281838</td>\n",
       "      <td>0.000000</td>\n",
       "      <td>0.251189</td>\n",
       "      <td>0.281838</td>\n",
       "      <td>0.000000</td>\n",
       "      <td>0.0</td>\n",
       "      <td>0.0</td>\n",
       "      <td>0.512490</td>\n",
       "    </tr>\n",
       "    <tr>\n",
       "      <th>4</th>\n",
       "      <td>2023-01-06 17:00:06</td>\n",
       "      <td>15</td>\n",
       "      <td>AD3830770CCDD0AD383002DB</td>\n",
       "      <td>stationary</td>\n",
       "      <td>1.0</td>\n",
       "      <td>5.0</td>\n",
       "      <td>1.0</td>\n",
       "      <td>0.0</td>\n",
       "      <td>0.0</td>\n",
       "      <td>0.0</td>\n",
       "      <td>...</td>\n",
       "      <td>0.000000</td>\n",
       "      <td>0.158489</td>\n",
       "      <td>0.000000</td>\n",
       "      <td>0.158489</td>\n",
       "      <td>0.199526</td>\n",
       "      <td>0.000000</td>\n",
       "      <td>0.158489</td>\n",
       "      <td>0.0</td>\n",
       "      <td>0.0</td>\n",
       "      <td>0.251189</td>\n",
       "    </tr>\n",
       "  </tbody>\n",
       "</table>\n",
       "<p>5 rows × 190 columns</p>\n",
       "</div>"
      ],
      "text/plain": [
       "                   run  crossing_id                       EPC      actual  \\\n",
       "0  2023-01-06 16:37:55           18  AD3830770CCDD0AD3830042E      moving   \n",
       "1  2023-01-06 17:00:06           10  AD3830770CCDD0AD383002D3      moving   \n",
       "2  2023-01-06 16:37:55            2  AD3830770CCDD0AD383002DC      moving   \n",
       "3  2023-01-06 16:25:36           19  AD3830770CCDD0AD383004AA      moving   \n",
       "4  2023-01-06 17:00:06           15  AD3830770CCDD0AD383002DB  stationary   \n",
       "\n",
       "   xstat  xmoving  keep_out  max_-12_1  max_-12_2  max_-12_3  ...  \\\n",
       "0    NaN      2.0       2.0        0.0        0.0        0.0  ...   \n",
       "1    NaN      5.0       5.0        0.0        0.0        0.0  ...   \n",
       "2    NaN      2.0       2.0        0.0        0.0        0.0  ...   \n",
       "3    NaN      1.0       1.0        0.0        0.0        0.0  ...   \n",
       "4    1.0      5.0       1.0        0.0        0.0        0.0  ...   \n",
       "\n",
       "   max_4_allants  max_5_allants  max_6_allants  max_7_allants  max_8_allants  \\\n",
       "0       0.050119       0.000000       0.000000       0.031623       0.000000   \n",
       "1       0.063096       0.000000       0.000000       0.000000       0.000000   \n",
       "2       0.000000       0.000000       0.000000       0.000000       0.000000   \n",
       "3       0.223872       0.000000       0.281838       0.000000       0.251189   \n",
       "4       0.000000       0.158489       0.000000       0.158489       0.199526   \n",
       "\n",
       "   max_9_allants  max_10_allants  max_11_allants  max_12_allants  \\\n",
       "0       0.000000        0.000000             0.0             0.0   \n",
       "1       0.000000        0.000000             0.0             0.0   \n",
       "2       0.000000        0.000000             0.0             0.0   \n",
       "3       0.281838        0.000000             0.0             0.0   \n",
       "4       0.000000        0.158489             0.0             0.0   \n",
       "\n",
       "   max_window_Dainaout  \n",
       "0             0.174974  \n",
       "1             0.162064  \n",
       "2             0.199526  \n",
       "3             0.512490  \n",
       "4             0.251189  \n",
       "\n",
       "[5 rows x 190 columns]"
      ]
     },
     "execution_count": 3,
     "metadata": {},
     "output_type": "execute_result"
    }
   ],
   "source": [
    "train = pd.read_csv('./data/train.csv')\n",
    "\n",
    "print(train.shape)\n",
    "train.head()"
   ]
  },
  {
   "cell_type": "code",
   "execution_count": 4,
   "metadata": {},
   "outputs": [
    {
     "name": "stdout",
     "output_type": "stream",
     "text": [
      "(5880, 190)\n"
     ]
    },
    {
     "data": {
      "text/html": [
       "<div>\n",
       "<style scoped>\n",
       "    .dataframe tbody tr th:only-of-type {\n",
       "        vertical-align: middle;\n",
       "    }\n",
       "\n",
       "    .dataframe tbody tr th {\n",
       "        vertical-align: top;\n",
       "    }\n",
       "\n",
       "    .dataframe thead th {\n",
       "        text-align: right;\n",
       "    }\n",
       "</style>\n",
       "<table border=\"1\" class=\"dataframe\">\n",
       "  <thead>\n",
       "    <tr style=\"text-align: right;\">\n",
       "      <th></th>\n",
       "      <th>run</th>\n",
       "      <th>crossing_id</th>\n",
       "      <th>EPC</th>\n",
       "      <th>actual</th>\n",
       "      <th>xstat</th>\n",
       "      <th>xmoving</th>\n",
       "      <th>keep_out</th>\n",
       "      <th>max_-12_1</th>\n",
       "      <th>max_-12_2</th>\n",
       "      <th>max_-12_3</th>\n",
       "      <th>...</th>\n",
       "      <th>max_4_allants</th>\n",
       "      <th>max_5_allants</th>\n",
       "      <th>max_6_allants</th>\n",
       "      <th>max_7_allants</th>\n",
       "      <th>max_8_allants</th>\n",
       "      <th>max_9_allants</th>\n",
       "      <th>max_10_allants</th>\n",
       "      <th>max_11_allants</th>\n",
       "      <th>max_12_allants</th>\n",
       "      <th>max_window_Dainaout</th>\n",
       "    </tr>\n",
       "  </thead>\n",
       "  <tbody>\n",
       "    <tr>\n",
       "      <th>0</th>\n",
       "      <td>2023-01-06 16:44:34</td>\n",
       "      <td>0</td>\n",
       "      <td>AD3830770CCDD0AD38300284</td>\n",
       "      <td>moving</td>\n",
       "      <td>NaN</td>\n",
       "      <td>3.0</td>\n",
       "      <td>3.0</td>\n",
       "      <td>0.0</td>\n",
       "      <td>0.0</td>\n",
       "      <td>0.0</td>\n",
       "      <td>...</td>\n",
       "      <td>0.000000</td>\n",
       "      <td>0.000000</td>\n",
       "      <td>0.000000</td>\n",
       "      <td>0.000000</td>\n",
       "      <td>0.000000</td>\n",
       "      <td>0.0</td>\n",
       "      <td>0.000000</td>\n",
       "      <td>0.0</td>\n",
       "      <td>0.0</td>\n",
       "      <td>0.036767</td>\n",
       "    </tr>\n",
       "    <tr>\n",
       "      <th>1</th>\n",
       "      <td>2023-01-06 17:00:06</td>\n",
       "      <td>17</td>\n",
       "      <td>AD3830770CCDD0AD383001C4</td>\n",
       "      <td>stationary</td>\n",
       "      <td>-3.0</td>\n",
       "      <td>5.0</td>\n",
       "      <td>3.0</td>\n",
       "      <td>0.0</td>\n",
       "      <td>0.0</td>\n",
       "      <td>0.0</td>\n",
       "      <td>...</td>\n",
       "      <td>0.000000</td>\n",
       "      <td>0.035481</td>\n",
       "      <td>0.000000</td>\n",
       "      <td>0.035481</td>\n",
       "      <td>0.035481</td>\n",
       "      <td>0.0</td>\n",
       "      <td>0.031623</td>\n",
       "      <td>0.0</td>\n",
       "      <td>0.0</td>\n",
       "      <td>0.039811</td>\n",
       "    </tr>\n",
       "    <tr>\n",
       "      <th>2</th>\n",
       "      <td>2023-01-06 16:37:55</td>\n",
       "      <td>2</td>\n",
       "      <td>AD3830770CCDD0AD38300221</td>\n",
       "      <td>moving</td>\n",
       "      <td>NaN</td>\n",
       "      <td>2.0</td>\n",
       "      <td>2.0</td>\n",
       "      <td>0.0</td>\n",
       "      <td>0.0</td>\n",
       "      <td>0.0</td>\n",
       "      <td>...</td>\n",
       "      <td>0.000000</td>\n",
       "      <td>0.000000</td>\n",
       "      <td>0.000000</td>\n",
       "      <td>0.000000</td>\n",
       "      <td>0.000000</td>\n",
       "      <td>0.0</td>\n",
       "      <td>0.000000</td>\n",
       "      <td>0.0</td>\n",
       "      <td>0.0</td>\n",
       "      <td>0.075774</td>\n",
       "    </tr>\n",
       "    <tr>\n",
       "      <th>3</th>\n",
       "      <td>2023-01-06 16:25:36</td>\n",
       "      <td>5</td>\n",
       "      <td>AD3830770CCDD0AD3830029F</td>\n",
       "      <td>moving</td>\n",
       "      <td>NaN</td>\n",
       "      <td>1.0</td>\n",
       "      <td>1.0</td>\n",
       "      <td>0.0</td>\n",
       "      <td>0.0</td>\n",
       "      <td>0.0</td>\n",
       "      <td>...</td>\n",
       "      <td>0.000000</td>\n",
       "      <td>0.000000</td>\n",
       "      <td>0.000000</td>\n",
       "      <td>0.000000</td>\n",
       "      <td>0.000000</td>\n",
       "      <td>0.0</td>\n",
       "      <td>0.000000</td>\n",
       "      <td>0.0</td>\n",
       "      <td>0.0</td>\n",
       "      <td>0.057502</td>\n",
       "    </tr>\n",
       "    <tr>\n",
       "      <th>4</th>\n",
       "      <td>2023-01-06 16:25:36</td>\n",
       "      <td>6</td>\n",
       "      <td>AD3830770CCDD0AD383001D5</td>\n",
       "      <td>stationary</td>\n",
       "      <td>NaN</td>\n",
       "      <td>1.0</td>\n",
       "      <td>1.0</td>\n",
       "      <td>0.0</td>\n",
       "      <td>0.0</td>\n",
       "      <td>0.0</td>\n",
       "      <td>...</td>\n",
       "      <td>0.316228</td>\n",
       "      <td>0.316228</td>\n",
       "      <td>0.281838</td>\n",
       "      <td>0.000000</td>\n",
       "      <td>0.000000</td>\n",
       "      <td>0.0</td>\n",
       "      <td>0.000000</td>\n",
       "      <td>0.0</td>\n",
       "      <td>0.0</td>\n",
       "      <td>0.316228</td>\n",
       "    </tr>\n",
       "  </tbody>\n",
       "</table>\n",
       "<p>5 rows × 190 columns</p>\n",
       "</div>"
      ],
      "text/plain": [
       "                   run  crossing_id                       EPC      actual  \\\n",
       "0  2023-01-06 16:44:34            0  AD3830770CCDD0AD38300284      moving   \n",
       "1  2023-01-06 17:00:06           17  AD3830770CCDD0AD383001C4  stationary   \n",
       "2  2023-01-06 16:37:55            2  AD3830770CCDD0AD38300221      moving   \n",
       "3  2023-01-06 16:25:36            5  AD3830770CCDD0AD3830029F      moving   \n",
       "4  2023-01-06 16:25:36            6  AD3830770CCDD0AD383001D5  stationary   \n",
       "\n",
       "   xstat  xmoving  keep_out  max_-12_1  max_-12_2  max_-12_3  ...  \\\n",
       "0    NaN      3.0       3.0        0.0        0.0        0.0  ...   \n",
       "1   -3.0      5.0       3.0        0.0        0.0        0.0  ...   \n",
       "2    NaN      2.0       2.0        0.0        0.0        0.0  ...   \n",
       "3    NaN      1.0       1.0        0.0        0.0        0.0  ...   \n",
       "4    NaN      1.0       1.0        0.0        0.0        0.0  ...   \n",
       "\n",
       "   max_4_allants  max_5_allants  max_6_allants  max_7_allants  max_8_allants  \\\n",
       "0       0.000000       0.000000       0.000000       0.000000       0.000000   \n",
       "1       0.000000       0.035481       0.000000       0.035481       0.035481   \n",
       "2       0.000000       0.000000       0.000000       0.000000       0.000000   \n",
       "3       0.000000       0.000000       0.000000       0.000000       0.000000   \n",
       "4       0.316228       0.316228       0.281838       0.000000       0.000000   \n",
       "\n",
       "   max_9_allants  max_10_allants  max_11_allants  max_12_allants  \\\n",
       "0            0.0        0.000000             0.0             0.0   \n",
       "1            0.0        0.031623             0.0             0.0   \n",
       "2            0.0        0.000000             0.0             0.0   \n",
       "3            0.0        0.000000             0.0             0.0   \n",
       "4            0.0        0.000000             0.0             0.0   \n",
       "\n",
       "   max_window_Dainaout  \n",
       "0             0.036767  \n",
       "1             0.039811  \n",
       "2             0.075774  \n",
       "3             0.057502  \n",
       "4             0.316228  \n",
       "\n",
       "[5 rows x 190 columns]"
      ]
     },
     "execution_count": 4,
     "metadata": {},
     "output_type": "execute_result"
    }
   ],
   "source": [
    "test = pd.read_csv('./data/test.csv')\n",
    "\n",
    "print(test.shape)\n",
    "test.head()"
   ]
  },
  {
   "cell_type": "code",
   "execution_count": 5,
   "metadata": {},
   "outputs": [
    {
     "data": {
      "text/plain": [
       "array([2., 5., 1., 3., 4.])"
      ]
     },
     "execution_count": 5,
     "metadata": {},
     "output_type": "execute_result"
    }
   ],
   "source": [
    "train['keep_out'].unique()"
   ]
  },
  {
   "attachments": {},
   "cell_type": "markdown",
   "metadata": {},
   "source": [
    "### Data splitting"
   ]
  },
  {
   "cell_type": "code",
   "execution_count": 6,
   "metadata": {},
   "outputs": [],
   "source": [
    "Y_train = train['actual']\n",
    "X_train = train.drop(columns=['run', 'crossing_id', 'EPC', 'actual', 'xstat', 'xmoving', 'keep_out'])\n",
    "\n",
    "Y_test = test['actual']\n",
    "X_test = test.drop(columns=['run', 'crossing_id', 'EPC', 'actual', 'xstat', 'xmoving', 'keep_out'])"
   ]
  },
  {
   "cell_type": "code",
   "execution_count": 7,
   "metadata": {},
   "outputs": [
    {
     "data": {
      "text/plain": [
       "(4014, 1866)"
      ]
     },
     "execution_count": 7,
     "metadata": {},
     "output_type": "execute_result"
    }
   ],
   "source": [
    "Y_test.where(Y_test == 'moving').count(), Y_test.where(Y_test == 'stationary').count()"
   ]
  },
  {
   "attachments": {},
   "cell_type": "markdown",
   "metadata": {},
   "source": [
    "## II. Model selection"
   ]
  },
  {
   "attachments": {},
   "cell_type": "markdown",
   "metadata": {},
   "source": [
    "### 1. SVC"
   ]
  },
  {
   "cell_type": "code",
   "execution_count": 8,
   "metadata": {},
   "outputs": [
    {
     "name": "stdout",
     "output_type": "stream",
     "text": [
      "              precision    recall  f1-score   support\n",
      "\n",
      "      moving       0.99      0.98      0.99     15986\n",
      "  stationary       0.96      0.98      0.97      7532\n",
      "\n",
      "    accuracy                           0.98     23518\n",
      "   macro avg       0.98      0.98      0.98     23518\n",
      "weighted avg       0.98      0.98      0.98     23518\n",
      "\n"
     ]
    }
   ],
   "source": [
    "model = SVC()\n",
    "\n",
    "model.fit(X_train, Y_train)\n",
    "\n",
    "Y_pred = model.predict(X_train)\n",
    "\n",
    "print(classification_report(Y_train, Y_pred))"
   ]
  },
  {
   "cell_type": "code",
   "execution_count": 9,
   "metadata": {},
   "outputs": [
    {
     "name": "stdout",
     "output_type": "stream",
     "text": [
      "              precision    recall  f1-score   support\n",
      "\n",
      "      moving       0.98      0.98      0.98      4014\n",
      "  stationary       0.96      0.97      0.96      1866\n",
      "\n",
      "    accuracy                           0.98      5880\n",
      "   macro avg       0.97      0.97      0.97      5880\n",
      "weighted avg       0.98      0.98      0.98      5880\n",
      "\n"
     ]
    }
   ],
   "source": [
    "Y_pred = model.predict(X_test)\n",
    "\n",
    "print(classification_report(Y_test, Y_pred))"
   ]
  },
  {
   "cell_type": "markdown",
   "metadata": {},
   "source": [
    "### 2. Random Forest"
   ]
  },
  {
   "cell_type": "code",
   "execution_count": 10,
   "metadata": {},
   "outputs": [
    {
     "name": "stdout",
     "output_type": "stream",
     "text": [
      "              precision    recall  f1-score   support\n",
      "\n",
      "      moving       1.00      1.00      1.00     15986\n",
      "  stationary       1.00      1.00      1.00      7532\n",
      "\n",
      "    accuracy                           1.00     23518\n",
      "   macro avg       1.00      1.00      1.00     23518\n",
      "weighted avg       1.00      1.00      1.00     23518\n",
      "\n"
     ]
    }
   ],
   "source": [
    "model = RandomForestClassifier(n_jobs=-1)\n",
    "\n",
    "model.fit(X_train, Y_train)\n",
    "\n",
    "Y_pred = model.predict(X_train)\n",
    "\n",
    "print(classification_report(Y_train, Y_pred))"
   ]
  },
  {
   "cell_type": "code",
   "execution_count": 11,
   "metadata": {},
   "outputs": [
    {
     "name": "stdout",
     "output_type": "stream",
     "text": [
      "              precision    recall  f1-score   support\n",
      "\n",
      "      moving       1.00      1.00      1.00      4014\n",
      "  stationary       0.99      0.99      0.99      1866\n",
      "\n",
      "    accuracy                           0.99      5880\n",
      "   macro avg       0.99      0.99      0.99      5880\n",
      "weighted avg       0.99      0.99      0.99      5880\n",
      "\n"
     ]
    }
   ],
   "source": [
    "Y_pred = model.predict(X_test)\n",
    "\n",
    "print(classification_report(Y_test, Y_pred))"
   ]
  },
  {
   "attachments": {},
   "cell_type": "markdown",
   "metadata": {},
   "source": [
    "Optimizing the Random Forest using GridSearch"
   ]
  },
  {
   "cell_type": "code",
   "execution_count": 13,
   "metadata": {},
   "outputs": [
    {
     "name": "stdout",
     "output_type": "stream",
     "text": [
      "Fitting 5 folds for each of 9 candidates, totalling 45 fits\n",
      "[CV] END ...................criterion=gini, n_estimators=100; total time=   2.9s\n",
      "[CV] END ...................criterion=gini, n_estimators=100; total time=   3.0s\n",
      "[CV] END ...................criterion=gini, n_estimators=100; total time=   3.0s\n",
      "[CV] END ...................criterion=gini, n_estimators=100; total time=   3.1s\n",
      "[CV] END ...................criterion=gini, n_estimators=100; total time=   3.0s\n",
      "[CV] END ...................criterion=gini, n_estimators=500; total time=  16.3s\n",
      "[CV] END ...................criterion=gini, n_estimators=500; total time=  16.3s\n",
      "[CV] END ...................criterion=gini, n_estimators=500; total time=  16.6s\n",
      "[CV] END ...................criterion=gini, n_estimators=500; total time=  15.7s\n",
      "[CV] END ...................criterion=gini, n_estimators=500; total time=  16.4s\n",
      "[CV] END ................criterion=entropy, n_estimators=100; total time=   2.8s\n",
      "[CV] END ................criterion=entropy, n_estimators=100; total time=   3.0s\n",
      "[CV] END ................criterion=entropy, n_estimators=100; total time=   2.8s\n",
      "[CV] END ................criterion=entropy, n_estimators=100; total time=   2.8s\n",
      "[CV] END ................criterion=entropy, n_estimators=100; total time=   2.8s\n",
      "[CV] END ..................criterion=gini, n_estimators=1000; total time=  33.0s\n",
      "[CV] END ..................criterion=gini, n_estimators=1000; total time=  33.1s\n",
      "[CV] END ................criterion=entropy, n_estimators=500; total time=  14.2s\n",
      "[CV] END ..................criterion=gini, n_estimators=1000; total time=  33.3s\n",
      "[CV] END ................criterion=entropy, n_estimators=500; total time=  14.4s\n",
      "[CV] END ................criterion=entropy, n_estimators=500; total time=  14.0s\n",
      "[CV] END ..................criterion=gini, n_estimators=1000; total time=  32.8s\n",
      "[CV] END ..................criterion=gini, n_estimators=1000; total time=  33.1s\n",
      "[CV] END ................criterion=entropy, n_estimators=500; total time=  13.6s\n",
      "[CV] END ................criterion=entropy, n_estimators=500; total time=  13.7s\n",
      "[CV] END ...............criterion=log_loss, n_estimators=100; total time=   2.8s\n",
      "[CV] END ...............criterion=log_loss, n_estimators=100; total time=   2.9s\n",
      "[CV] END ...............criterion=log_loss, n_estimators=100; total time=   2.8s\n",
      "[CV] END ...............criterion=log_loss, n_estimators=100; total time=   2.8s\n",
      "[CV] END ...............criterion=log_loss, n_estimators=100; total time=   2.8s\n",
      "[CV] END ...............criterion=entropy, n_estimators=1000; total time=  27.7s\n",
      "[CV] END ...............criterion=entropy, n_estimators=1000; total time=  28.2s\n",
      "[CV] END ...............criterion=entropy, n_estimators=1000; total time=  28.2s\n",
      "[CV] END ...............criterion=entropy, n_estimators=1000; total time=  27.6s\n",
      "[CV] END ...............criterion=log_loss, n_estimators=500; total time=  14.1s\n",
      "[CV] END ...............criterion=log_loss, n_estimators=500; total time=  13.8s\n",
      "[CV] END ...............criterion=log_loss, n_estimators=500; total time=  13.9s\n",
      "[CV] END ...............criterion=entropy, n_estimators=1000; total time=  27.8s\n",
      "[CV] END ...............criterion=log_loss, n_estimators=500; total time=  13.7s\n",
      "[CV] END ...............criterion=log_loss, n_estimators=500; total time=  13.3s\n",
      "[CV] END ..............criterion=log_loss, n_estimators=1000; total time=  21.9s\n",
      "[CV] END ..............criterion=log_loss, n_estimators=1000; total time=  21.6s\n",
      "[CV] END ..............criterion=log_loss, n_estimators=1000; total time=  21.4s\n",
      "[CV] END ..............criterion=log_loss, n_estimators=1000; total time=  19.3s\n",
      "[CV] END ..............criterion=log_loss, n_estimators=1000; total time=  19.6s\n"
     ]
    },
    {
     "data": {
      "text/plain": [
       "(0.9901353402300745, {'criterion': 'entropy', 'n_estimators': 1000})"
      ]
     },
     "execution_count": 13,
     "metadata": {},
     "output_type": "execute_result"
    }
   ],
   "source": [
    "model = RandomForestClassifier(n_jobs=-1)\n",
    "\n",
    "params = {\n",
    "    'n_estimators': [100, 500, 1000],\n",
    "    'criterion': ['gini', 'entropy', 'log_loss']\n",
    "}\n",
    "\n",
    "grid = GridSearchCV(model, params, n_jobs=-1, cv=5, verbose=2)\n",
    "grid.fit(X_train, Y_train)\n",
    "\n",
    "grid.best_score_, grid.best_params_"
   ]
  },
  {
   "attachments": {},
   "cell_type": "markdown",
   "metadata": {},
   "source": [
    "Trying out the best parameters"
   ]
  },
  {
   "cell_type": "markdown",
   "metadata": {},
   "source": [
    "## Evaluation"
   ]
  },
  {
   "cell_type": "code",
   "execution_count": 14,
   "metadata": {},
   "outputs": [
    {
     "name": "stdout",
     "output_type": "stream",
     "text": [
      "              precision    recall  f1-score   support\n",
      "\n",
      "      moving       1.00      1.00      1.00     15986\n",
      "  stationary       1.00      1.00      1.00      7532\n",
      "\n",
      "    accuracy                           1.00     23518\n",
      "   macro avg       1.00      1.00      1.00     23518\n",
      "weighted avg       1.00      1.00      1.00     23518\n",
      "\n"
     ]
    }
   ],
   "source": [
    "model = grid.best_estimator_\n",
    "\n",
    "model.fit(X_train, Y_train)\n",
    "\n",
    "Y_pred = model.predict(X_train)\n",
    "\n",
    "print(classification_report(Y_train, Y_pred))"
   ]
  },
  {
   "cell_type": "code",
   "execution_count": 20,
   "metadata": {},
   "outputs": [
    {
     "data": {
      "text/plain": [
       "<sklearn.metrics._plot.confusion_matrix.ConfusionMatrixDisplay at 0x3068559a0>"
      ]
     },
     "execution_count": 20,
     "metadata": {},
     "output_type": "execute_result"
    },
    {
     "data": {
      "image/png": "[encoded data removed]",
      "text/plain": [
       "<Figure size 640x480 with 2 Axes>"
      ]
     },
     "metadata": {},
     "output_type": "display_data"
    }
   ],
   "source": [
    "ConfusionMatrixDisplay(confusion_matrix(Y_train, Y_pred, labels=model.classes_, normalize='pred'), display_labels=model.classes_).plot()"
   ]
  },
  {
   "cell_type": "code",
   "execution_count": 21,
   "metadata": {},
   "outputs": [
    {
     "name": "stdout",
     "output_type": "stream",
     "text": [
      "              precision    recall  f1-score   support\n",
      "\n",
      "      moving       1.00      1.00      1.00      4014\n",
      "  stationary       0.99      0.99      0.99      1866\n",
      "\n",
      "    accuracy                           0.99      5880\n",
      "   macro avg       0.99      0.99      0.99      5880\n",
      "weighted avg       0.99      0.99      0.99      5880\n",
      "\n"
     ]
    }
   ],
   "source": [
    "Y_pred = model.predict(X_test)\n",
    "\n",
    "print(classification_report(Y_test, Y_pred))"
   ]
  },
  {
   "cell_type": "code",
   "execution_count": 22,
   "metadata": {},
   "outputs": [
    {
     "data": {
      "text/plain": [
       "<sklearn.metrics._plot.confusion_matrix.ConfusionMatrixDisplay at 0x306533500>"
      ]
     },
     "execution_count": 22,
     "metadata": {},
     "output_type": "execute_result"
    },
    {
     "data": {
      "image/png": "[encoded data removed]",
      "text/plain": [
       "<Figure size 640x480 with 2 Axes>"
      ]
     },
     "metadata": {},
     "output_type": "display_data"
    }
   ],
   "source": [
    "ConfusionMatrixDisplay(confusion_matrix(Y_test, Y_pred, labels=model.classes_, normalize='pred'), display_labels=model.classes_).plot()"
   ]
  },
  {
   "attachments": {},
   "cell_type": "markdown",
   "metadata": {},
   "source": [
    "Calculating the explained variance ratio"
   ]
  },
  {
   "cell_type": "code",
   "execution_count": 23,
   "metadata": {},
   "outputs": [
    {
     "data": {
      "text/plain": [
       "(array(['moving', 'stationary', 'moving', 'moving', 'stationary'],\n",
       "       dtype=object),\n",
       " [1, 0, 1, 1, 0])"
      ]
     },
     "execution_count": 23,
     "metadata": {},
     "output_type": "execute_result"
    }
   ],
   "source": [
    "Y_pred_digits = []\n",
    "for val in Y_pred:\n",
    "    if val == 'moving':\n",
    "        Y_pred_digits.append(1)\n",
    "    else:\n",
    "        Y_pred_digits.append(0)\n",
    "\n",
    "Y_pred[:5], Y_pred_digits[:5]"
   ]
  },
  {
   "cell_type": "code",
   "execution_count": 24,
   "metadata": {},
   "outputs": [
    {
     "data": {
      "text/plain": [
       "(0        moving\n",
       " 1    stationary\n",
       " 2        moving\n",
       " 3        moving\n",
       " 4    stationary\n",
       " Name: actual, dtype: object,\n",
       " [1, 0, 1, 1, 0])"
      ]
     },
     "execution_count": 24,
     "metadata": {},
     "output_type": "execute_result"
    }
   ],
   "source": [
    "Y_test_digits = []\n",
    "for val in Y_test:\n",
    "    if val == 'moving':\n",
    "        Y_test_digits.append(1)\n",
    "    else:\n",
    "        Y_test_digits.append(0)\n",
    "\n",
    "Y_test[:5], Y_test_digits[:5]"
   ]
  },
  {
   "cell_type": "code",
   "execution_count": 25,
   "metadata": {},
   "outputs": [
    {
     "data": {
      "text/plain": [
       "0.9717409217791321"
      ]
     },
     "execution_count": 25,
     "metadata": {},
     "output_type": "execute_result"
    }
   ],
   "source": [
    "explained_variance_score(Y_test_digits, Y_pred_digits)"
   ]
  },
  {
   "attachments": {},
   "cell_type": "markdown",
   "metadata": {},
   "source": [
    "ROC"
   ]
  },
  {
   "cell_type": "code",
   "execution_count": 26,
   "metadata": {},
   "outputs": [
    {
     "data": {
      "text/plain": [
       "0.993221474037012"
      ]
     },
     "execution_count": 26,
     "metadata": {},
     "output_type": "execute_result"
    }
   ],
   "source": [
    "roc_auc_score(Y_test_digits, Y_pred_digits)"
   ]
  },
  {
   "cell_type": "code",
   "execution_count": 27,
   "metadata": {},
   "outputs": [
    {
     "data": {
      "text/plain": [
       "<sklearn.metrics._plot.roc_curve.RocCurveDisplay at 0x306a20740>"
      ]
     },
     "execution_count": 27,
     "metadata": {},
     "output_type": "execute_result"
    },
    {
     "data": {
      "image/png": "[encoded data removed]",
      "text/plain": [
       "<Figure size 640x480 with 1 Axes>"
      ]
     },
     "metadata": {},
     "output_type": "display_data"
    }
   ],
   "source": [
    "RocCurveDisplay.from_estimator(grid.best_estimator_, X_test, Y_test, pos_label='moving')"
   ]
  },
  {
   "cell_type": "code",
   "execution_count": 28,
   "metadata": {},
   "outputs": [
    {
     "data": {
      "text/plain": [
       "<sklearn.metrics._plot.roc_curve.RocCurveDisplay at 0x3064d3ef0>"
      ]
     },
     "execution_count": 28,
     "metadata": {},
     "output_type": "execute_result"
    },
    {
     "data": {
      "image/png": "[encoded data removed]",
      "text/plain": [
       "<Figure size 640x480 with 1 Axes>"
      ]
     },
     "metadata": {},
     "output_type": "display_data"
    }
   ],
   "source": [
    "RocCurveDisplay.from_estimator(grid.best_estimator_, X_test, Y_test, pos_label='stationary')"
   ]
  },
  {
   "attachments": {},
   "cell_type": "markdown",
   "metadata": {},
   "source": [
    "Cross validation"
   ]
  },
  {
   "cell_type": "code",
   "execution_count": 29,
   "metadata": {},
   "outputs": [
    {
     "name": "stderr",
     "output_type": "stream",
     "text": [
      "[Parallel(n_jobs=-1)]: Using backend LokyBackend with 8 concurrent workers.\n",
      "[Parallel(n_jobs=-1)]: Done   6 out of  10 | elapsed:   34.5s remaining:   23.0s\n",
      "[Parallel(n_jobs=-1)]: Done  10 out of  10 | elapsed:   40.5s finished\n"
     ]
    },
    {
     "data": {
      "text/plain": [
       "(99.29, 98.89, 99.53)"
      ]
     },
     "execution_count": 29,
     "metadata": {},
     "output_type": "execute_result"
    }
   ],
   "source": [
    "model = grid.best_estimator_\n",
    "\n",
    "scores = cross_val_score(model, X_train, Y_train, cv=10, n_jobs=-1, verbose=1)\n",
    "\n",
    "round(scores.mean()*100, 2), round(scores.min()*100, 2), round(scores.max()*100,2)"
   ]
  }
 ],
 "metadata": {
  "kernelspec": {
   "display_name": "Python 3",
   "language": "python",
   "name": "python3"
  },
  "language_info": {
   "codemirror_mode": {
    "name": "ipython",
    "version": 3
   },
   "file_extension": ".py",
   "mimetype": "text/x-python",
   "name": "python",
   "nbconvert_exporter": "python",
   "pygments_lexer": "ipython3",
   "version": "3.12.3"
  },
  "orig_nbformat": 4
 },
 "nbformat": 4,
 "nbformat_minor": 2
}
